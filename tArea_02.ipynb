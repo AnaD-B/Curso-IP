{
  "nbformat": 4,
  "nbformat_minor": 0,
  "metadata": {
    "colab": {
      "name": "tArea-02.ipynb",
      "provenance": [],
      "authorship_tag": "ABX9TyMgEHOsEyM2G0o+0tBTp2ls",
      "include_colab_link": true
    },
    "kernelspec": {
      "name": "python3",
      "display_name": "Python 3"
    }
  },
  "cells": [
    {
      "cell_type": "markdown",
      "metadata": {
        "id": "view-in-github",
        "colab_type": "text"
      },
      "source": [
        "<a href=\"https://colab.research.google.com/github/AnaD-B/Curso-IP/blob/main/tArea_02.ipynb\" target=\"_parent\"><img src=\"https://colab.research.google.com/assets/colab-badge.svg\" alt=\"Open In Colab\"/></a>"
      ]
    },
    {
      "cell_type": "code",
      "metadata": {
        "colab": {
          "base_uri": "https://localhost:8080/"
        },
        "id": "b2g5RC_1H1Ln",
        "outputId": "8dc89e50-b35f-4130-d811-9ca0e79863b7"
      },
      "source": [
        "#TEMA 05\r\n",
        "#     Indicaciones\r\n",
        "\r\n",
        "#Anidar diccionarios (mínimo 2).\r\n",
        "#Que el programa solicite que teclees el valor de las variables, (usar el método de input())\r\n",
        "#Si ingresas enteros o flotantes, que los convierta a su tipo correspondiente (usar entonces int() o float())\r\n",
        "#Luego estas se agreguen al diccionario con el métod update()\r\n",
        "\r\n",
        "\r\n",
        "#VIVERO\r\n",
        "\r\n",
        "\r\n",
        "\r\n",
        "vivero=[\r\n",
        "{\r\n",
        "    'nombre' : 'Gardenia',\r\n",
        "    'color_flor' : 'blanca',\r\n",
        "    'condicion' : ['sombra', 'sol']\r\n",
        "},\r\n",
        "{\r\n",
        "    'nombre' : 'Orquídeas',\r\n",
        "    'color_flor' : ['rosa', 'morada', 'blanca'],\r\n",
        "    'condicion' : 'sombra'\r\n",
        "},\r\n",
        "{\r\n",
        "    'nombre' : 'Malva',\r\n",
        "    'color_flor' : ['morada', 'blnca'],\r\n",
        "    'condicion' : ['sombra', 'sol']\r\n",
        "}\r\n",
        "]\r\n",
        "#solicitar el numero de unidades que se quieran adquirir \r\n",
        "\r\n",
        "unidadesGardenia = input(\"¿Cuántas gardenias vas a querer?: \")\r\n",
        "unidadesGardenia = int(unidadesGardenia)\r\n",
        "\r\n",
        "unidadesOrquidea = input(\"¿Cuántas orquídeas vas a querer?: \")\r\n",
        "unidadesOrquidea = int(unidadesOrquidea)\r\n",
        "\r\n",
        "unidadesMalva = input(\"¿Cuántas malvas vas a querer?: \")\r\n",
        "unidadesMalva = int(unidadesMalva)\r\n",
        "\r\n",
        "vivero[0].update({\"numero_de_flores\":unidadesGardenia})\r\n",
        "vivero[1].update({\"numero_de_flores\":unidadesOrquidea})\r\n",
        "vivero[2].update({\"numero_de_flores\":unidadesMalva})\r\n",
        "\r\n",
        "\r\n",
        "\r\n"
      ],
      "execution_count": 21,
      "outputs": [
        {
          "output_type": "stream",
          "text": [
            "¿Cuántas gardenias vas a querer?: 1\n",
            "¿Cuántas orquídeas vas a querer?: 5\n",
            "¿Cuántas malvas vas a querer?: 33\n"
          ],
          "name": "stdout"
        }
      ]
    },
    {
      "cell_type": "code",
      "metadata": {
        "colab": {
          "base_uri": "https://localhost:8080/"
        },
        "id": "amdA1Bnj9Go2",
        "outputId": "548da397-8821-485b-c4ff-69d445a50fc6"
      },
      "source": [
        "vivero"
      ],
      "execution_count": 22,
      "outputs": [
        {
          "output_type": "execute_result",
          "data": {
            "text/plain": [
              "[{'color_flor': 'blanca',\n",
              "  'condicion': ['sombra', 'sol'],\n",
              "  'nombre': 'Gardenia',\n",
              "  'numero_de_flores': 1},\n",
              " {'color_flor': ['rosa', 'morada', 'blanca'],\n",
              "  'condicion': 'sombra',\n",
              "  'nombre': 'Orquídeas',\n",
              "  'numero_de_flores': 5},\n",
              " {'color_flor': ['morada', 'blnca'],\n",
              "  'condicion': ['sombra', 'sol'],\n",
              "  'nombre': 'Malva',\n",
              "  'numero_de_flores': 33}]"
            ]
          },
          "metadata": {
            "tags": []
          },
          "execution_count": 22
        }
      ]
    },
    {
      "cell_type": "code",
      "metadata": {
        "id": "odA3GOkS9MnP"
      },
      "source": [
        ""
      ],
      "execution_count": null,
      "outputs": []
    }
  ]
}