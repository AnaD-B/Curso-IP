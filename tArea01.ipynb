{
  "nbformat": 4,
  "nbformat_minor": 0,
  "metadata": {
    "colab": {
      "name": "tArea01.ipynb",
      "provenance": [],
      "authorship_tag": "ABX9TyNICgnucSM9WlSd63M7E686",
      "include_colab_link": true
    },
    "kernelspec": {
      "name": "python3",
      "display_name": "Python 3"
    }
  },
  "cells": [
    {
      "cell_type": "markdown",
      "metadata": {
        "id": "view-in-github",
        "colab_type": "text"
      },
      "source": [
        "<a href=\"https://colab.research.google.com/github/AnaD-B/Curso-IP/blob/main/tArea01.ipynb\" target=\"_parent\"><img src=\"https://colab.research.google.com/assets/colab-badge.svg\" alt=\"Open In Colab\"/></a>"
      ]
    },
    {
      "cell_type": "code",
      "metadata": {
        "colab": {
          "base_uri": "https://localhost:8080/"
        },
        "id": "vg5IOjPX9DAx",
        "outputId": "582a8b8d-4214-4bb7-e0fb-a0b6cb651f45"
      },
      "source": [
        "#PROGRAMA DE TAREA 01\r\n",
        "\r\n",
        "print(\"¿Cual es tu nombre completo?\")\r\n",
        "\r\n",
        "#solicitar Nombres - string\r\n",
        "\r\n",
        "Nom_1 = input(\"Primer nombre: \")\r\n",
        "\r\n",
        "Nom_2 = input(\"Segundo nombre: \" )\r\n",
        "\r\n",
        "#solicitar apellidos\r\n",
        "Ape_1 = input(\"Primer apellido: \")\r\n",
        "\r\n",
        "Ape_2 = input(\"Segundo apellido: \")\r\n",
        "\r\n",
        "#concatenar\r\n",
        "\r\n",
        "NomCom = Nom_1 + \" \" + Nom_2 + \" \" + Ape_1 + \" \" + Ape_2\r\n",
        "\r\n",
        "print(NomCom)"
      ],
      "execution_count": 3,
      "outputs": [
        {
          "output_type": "stream",
          "text": [
            "¿Cual es tu nombre completo?\n",
            "Primer nombre: Ana \n",
            "Segundo nombre: Daniela\n",
            "Primer apellido: Bueno\n",
            "Segundo apellido: Lopez\n",
            "Ana  Daniela Bueno Lopez\n"
          ],
          "name": "stdout"
        }
      ]
    }
  ]
}