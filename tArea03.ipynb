{
  "nbformat": 4,
  "nbformat_minor": 0,
  "metadata": {
    "colab": {
      "name": "tArea03.ipynb",
      "provenance": [],
      "authorship_tag": "ABX9TyOEFGJWvR9DQh66Num15c0m",
      "include_colab_link": true
    },
    "kernelspec": {
      "name": "python3",
      "display_name": "Python 3"
    }
  },
  "cells": [
    {
      "cell_type": "markdown",
      "metadata": {
        "id": "view-in-github",
        "colab_type": "text"
      },
      "source": [
        "<a href=\"https://colab.research.google.com/github/AnaD-B/Curso-IP/blob/main/tArea03.ipynb\" target=\"_parent\"><img src=\"https://colab.research.google.com/assets/colab-badge.svg\" alt=\"Open In Colab\"/></a>"
      ]
    },
    {
      "cell_type": "code",
      "metadata": {
        "colab": {
          "base_uri": "https://localhost:8080/"
        },
        "id": "F5QtJFqfUhlD",
        "outputId": "d273dd9e-f40e-49a5-e0a7-8f85c76c03af"
      },
      "source": [
        "Carne = \"Doble triple\"\r\n",
        "Salsa = \"De Coral\"\r\n",
        "Decorado = \"De lujo\"\r\n",
        "Estilo = \"Animal\"\r\n",
        "Guijarros = \"Extra\"\r\n",
        "Vibración = \"Exprimida\"\r\n",
        "Eje = \"Con grasa ligera\"\r\n",
        "Hazlo = \"Llorar\"\r\n",
        "Quémalo = \"Sí\"\r\n",
        "Nadando = \"Sí\"\r\n",
        "Pepinillos = \"Sí\"\r\n",
        "\r\n",
        "\r\n",
        "if (Carne == \"Doble triple\" and \r\n",
        "Salsa == \"De Coral\" and\r\n",
        "Decorado == \"De lujo\" and\r\n",
        "Estilo == \"Animal\" and \r\n",
        "Guijarros == \"Extra\" and\r\n",
        "Vibración == \"Exprimida\" and\r\n",
        "Eje == \"Con grasa ligera\" and \r\n",
        "Hazlo == \"Llorar\" and\r\n",
        "Quémalo == \"Sí\" and\r\n",
        "Nadando == \"Sí\" and\r\n",
        "Pepinillos == \"No\"):\r\n",
        "  print(\"Quiere la kangreburguer\")\r\n",
        "else:\r\n",
        "  print(\"No quiere la kangrebuger\")\r\n"
      ],
      "execution_count": 4,
      "outputs": [
        {
          "output_type": "stream",
          "text": [
            "No quiere la kangrebuger\n"
          ],
          "name": "stdout"
        }
      ]
    },
    {
      "cell_type": "code",
      "metadata": {
        "colab": {
          "base_uri": "https://localhost:8080/"
        },
        "id": "v6nAfXlSUpwF",
        "outputId": "da3326fe-a4db-4aff-bbcc-08ee95a7eb32"
      },
      "source": [
        "# Variación del anterior código con valores booleanos\r\n",
        "\r\n",
        "Carne_doble_triple = True\r\n",
        "Salsa_de_coral = True \r\n",
        "Decorado_de_lujo = True\r\n",
        "Estilo_animal = True \r\n",
        "Guijarros_extra = True\r\n",
        "Vibración_exprimida = True\r\n",
        "Eje_con_grasa_ligera = True\r\n",
        "Hazlo_llorar = True\r\n",
        "Quemado = True \r\n",
        "Nadando = True\r\n",
        "Pepinillos = True \r\n",
        "\r\n",
        "\r\n",
        "if (Carne_doble_triple and \r\n",
        "Salsa_de_coral and\r\n",
        "Decorado_de_lujo and\r\n",
        "Estilo_animal and \r\n",
        "Guijarros_extra and\r\n",
        "Vibración_exprimida and\r\n",
        "Eje_con_grasa_ligera and \r\n",
        "Hazlo_llorar and\r\n",
        "Quemado and\r\n",
        "Nadando and\r\n",
        "Pepinillos ):\r\n",
        "  print(\"Quiere la kangreburguer\")\r\n",
        "else:\r\n",
        "  print(\"No quiere la kangrebuger\")\r\n"
      ],
      "execution_count": 6,
      "outputs": [
        {
          "output_type": "stream",
          "text": [
            "No quiere la kangrebuger\n"
          ],
          "name": "stdout"
        }
      ]
    },
    {
      "cell_type": "code",
      "metadata": {
        "colab": {
          "base_uri": "https://localhost:8080/"
        },
        "id": "ufYAChXcU4lo",
        "outputId": "e45ebd77-04f6-4928-cef8-365da06e84ef"
      },
      "source": [
        "#Tarea\r\n",
        "\r\n",
        "#cambiar el condicional de tal manera que ahora solo una condición debe ser \r\n",
        "#verdadera para que se ejecute el primer print\r\n",
        "\r\n",
        "Carne = \"Doble triple\"\r\n",
        "Salsa = \"De Coral\"\r\n",
        "Decorado = \"De lujo\"\r\n",
        "Estilo = \"Animal\"\r\n",
        "Guijarros = \"Extra\"\r\n",
        "Vibración = \"Exprimida\"\r\n",
        "Eje = \"Con grasa ligera\"\r\n",
        "Hazlo = \"Llorar\"\r\n",
        "Quémalo = \"Sí\"\r\n",
        "Nadando = \"Sí\"\r\n",
        "Pepinillos = \"Sí\"\r\n",
        "\r\n",
        "\r\n",
        "if (Carne == \"Doble triple\" or \r\n",
        "Salsa == \"De Coral\" or\r\n",
        "Decorado == \"De lujo\" or\r\n",
        "Estilo == \"Animal\" or\r\n",
        "Guijarros == \"Extra\" or\r\n",
        "Vibración == \"Exprimida\" or\r\n",
        "Eje == \"Con grasa ligera\" or\r\n",
        "Hazlo == \"Llorar\" or\r\n",
        "Quémalo == \"Sí\" or\r\n",
        "Nadando == \"Sí\" or\r\n",
        "Pepinillos == \"No\"):\r\n",
        "  print(\"Quiere la kangreburguer\")\r\n",
        "else:\r\n",
        "  print(\"No quiere la kangrebuger\")\r\n"
      ],
      "execution_count": 3,
      "outputs": [
        {
          "output_type": "stream",
          "text": [
            "Quiere la kangreburguer\n"
          ],
          "name": "stdout"
        }
      ]
    }
  ]
}